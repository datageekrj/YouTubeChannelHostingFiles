{
  "nbformat": 4,
  "nbformat_minor": 0,
  "metadata": {
    "colab": {
      "provenance": []
    },
    "kernelspec": {
      "name": "python3",
      "display_name": "Python 3"
    },
    "language_info": {
      "name": "python"
    }
  },
  "cells": [
    {
      "cell_type": "code",
      "source": [
        "import numpy as np\n",
        "\n",
        "# Our small corpus of documents\n",
        "corpus = [\n",
        "    \"the sky is blue\",\n",
        "    \"the sun is bright\",\n",
        "    \"the sun in the sky is bright\",\n",
        "    \"we can see the shining sun, the bright sun\"\n",
        "]"
      ],
      "metadata": {
        "id": "ieNWVBLaopWc"
      },
      "execution_count": null,
      "outputs": []
    },
    {
      "cell_type": "code",
      "source": [
        "# Step.1 Build the vocab, 20 unique words, my vector will be of dim 20 [0.4, 0, 0, ....,]\n",
        "# Step.2 Build a TF matrix (term frequency)\n",
        "\n",
        "# [[0,1,1,...,0],\n",
        "#  [0,2,0,....0],\n",
        "#  [],\n",
        "#  []]\n",
        "\n",
        "# Step.3 Build a IDF lookup (for each word, we try to compute its rarity, throughout the corpus)\n",
        "# take any word t = sky\n",
        "# IDF(t) = Total no of document / total no of documents with word = t\n",
        "# IDF(sky) = 4 / (2 + 1) = 2 => rare word\n",
        "# IDF(the) = 4 / (4 + 1) = 1 => common word\n",
        "\n",
        "# Step.4 Finally, we compute a TFIDF matrix\n",
        "\n",
        "# [[0,2,....,0],\n",
        "#  [],\n",
        "#  [],\n",
        "#  []]\n"
      ],
      "metadata": {
        "id": "ha7RXtIctseb"
      },
      "execution_count": null,
      "outputs": []
    },
    {
      "cell_type": "code",
      "source": [
        "# Document: text, one tweet, one Document, chapter\n",
        "# Corpus : collection of Document, list[Document], list[Chapter]\n",
        "\n",
        "\n",
        "# Build search system, Document => vector\n",
        "# corpus => list[Vector]\n",
        "# search system: searching over that vector, query vector and we compute distance from all the vectors in list[vector]\n",
        "\n"
      ],
      "metadata": {
        "id": "gM2fhuKOsZlJ"
      },
      "execution_count": null,
      "outputs": []
    },
    {
      "cell_type": "code",
      "source": [
        "vocab = set()\n",
        "for doc in corpus:\n",
        "  for word in doc.split(\" \"):\n",
        "    vocab.add(word)"
      ],
      "metadata": {
        "id": "Liur91nzwDfc"
      },
      "execution_count": null,
      "outputs": []
    },
    {
      "cell_type": "code",
      "source": [
        "def get_tf_vector(doc, vocab):\n",
        "  example_vector = np.zeros(len(vocab))\n",
        "  for word in doc.split(\" \"):\n",
        "    current_word_index = sorted(list(vocab)).index(word)\n",
        "    example_vector[current_word_index] += 1\n",
        "  return example_vector"
      ],
      "metadata": {
        "id": "NsT4brETyCx4"
      },
      "execution_count": null,
      "outputs": []
    },
    {
      "cell_type": "code",
      "source": [
        "tf_matrix = [get_tf_vector(doc, vocab) for doc in corpus]"
      ],
      "metadata": {
        "id": "EJYw9TMtybF5"
      },
      "execution_count": null,
      "outputs": []
    },
    {
      "cell_type": "code",
      "source": [
        "tf_matrix = np.array(tf_matrix)"
      ],
      "metadata": {
        "id": "NRE6QhRVymth"
      },
      "execution_count": null,
      "outputs": []
    },
    {
      "cell_type": "code",
      "source": [
        "import math"
      ],
      "metadata": {
        "id": "f6hvZkHByvMF"
      },
      "execution_count": null,
      "outputs": []
    },
    {
      "cell_type": "code",
      "source": [
        "how_many_documents = len(corpus)"
      ],
      "metadata": {
        "id": "JhaVgmkkzHCM"
      },
      "execution_count": null,
      "outputs": []
    },
    {
      "cell_type": "code",
      "source": [
        "def get_idf_value(word, corpus):\n",
        "  how_many_documents_with_word = 0\n",
        "  for doc in corpus:\n",
        "    if word in doc:\n",
        "      how_many_documents_with_word += 1\n",
        "  return math.log(how_many_documents / (how_many_documents_with_word + 1))"
      ],
      "metadata": {
        "id": "UF62Qb2czDMw"
      },
      "execution_count": null,
      "outputs": []
    },
    {
      "cell_type": "code",
      "source": [
        "idf_dict = {}\n",
        "for word in vocab:\n",
        "  idf_dict[word] = get_idf_value(word, corpus)"
      ],
      "metadata": {
        "id": "tncSOW5vy3Ko"
      },
      "execution_count": null,
      "outputs": []
    },
    {
      "cell_type": "code",
      "source": [
        "tfidf_matrix = np.zeros((len(corpus), len(vocab)))\n",
        "\n",
        "for doc_index, array in enumerate(tf_matrix):\n",
        "  for index, tf_value in enumerate(array):\n",
        "    tfidf_matrix[doc_index, index] = tf_value * idf_dict[sorted(list(vocab))[index]]"
      ],
      "metadata": {
        "id": "x5TzUdPwzhv1"
      },
      "execution_count": null,
      "outputs": []
    },
    {
      "cell_type": "code",
      "source": [
        "tfidf_matrix"
      ],
      "metadata": {
        "colab": {
          "base_uri": "https://localhost:8080/"
        },
        "id": "OLcKEaIxzyk8",
        "outputId": "630f8bc8-1de8-4856-f584-d15e6b9f9a31"
      },
      "execution_count": null,
      "outputs": [
        {
          "output_type": "execute_result",
          "data": {
            "text/plain": [
              "array([[ 0.69314718,  0.        ,  0.        ,  0.        ,  0.        ,\n",
              "         0.        ,  0.        ,  0.28768207,  0.        ,  0.        ,\n",
              "        -0.22314355,  0.        ],\n",
              "       [ 0.        ,  0.        ,  0.        ,  0.        ,  0.        ,\n",
              "         0.        ,  0.        ,  0.        ,  0.        ,  0.        ,\n",
              "        -0.22314355,  0.        ],\n",
              "       [ 0.        ,  0.        ,  0.        ,  0.28768207,  0.        ,\n",
              "         0.        ,  0.        ,  0.28768207,  0.        ,  0.        ,\n",
              "        -0.4462871 ,  0.        ],\n",
              "       [ 0.        ,  0.        ,  0.69314718,  0.        ,  0.        ,\n",
              "         0.69314718,  0.69314718,  0.        ,  0.        ,  0.69314718,\n",
              "        -0.4462871 ,  0.69314718]])"
            ]
          },
          "metadata": {},
          "execution_count": 55
        }
      ]
    }
  ]
}