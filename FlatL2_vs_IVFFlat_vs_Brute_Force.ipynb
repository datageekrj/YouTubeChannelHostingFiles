{
  "nbformat": 4,
  "nbformat_minor": 0,
  "metadata": {
    "colab": {
      "provenance": []
    },
    "kernelspec": {
      "name": "python3",
      "display_name": "Python 3"
    },
    "language_info": {
      "name": "python"
    }
  },
  "cells": [
    {
      "cell_type": "code",
      "execution_count": 1,
      "metadata": {
        "colab": {
          "base_uri": "https://localhost:8080/"
        },
        "id": "bg0BINt3KKEv",
        "outputId": "275dd7e5-3941-4f87-fe48-f83cbf8ffa99"
      },
      "outputs": [
        {
          "output_type": "stream",
          "name": "stdout",
          "text": [
            "Collecting faiss-cpu\n",
            "  Downloading faiss_cpu-1.12.0-cp312-cp312-manylinux_2_27_x86_64.manylinux_2_28_x86_64.whl.metadata (5.1 kB)\n",
            "Requirement already satisfied: numpy<3.0,>=1.25.0 in /usr/local/lib/python3.12/dist-packages (from faiss-cpu) (2.0.2)\n",
            "Requirement already satisfied: packaging in /usr/local/lib/python3.12/dist-packages (from faiss-cpu) (25.0)\n",
            "Downloading faiss_cpu-1.12.0-cp312-cp312-manylinux_2_27_x86_64.manylinux_2_28_x86_64.whl (31.4 MB)\n",
            "\u001b[2K   \u001b[90m━━━━━━━━━━━━━━━━━━━━━━━━━━━━━━━━━━━━━━━━\u001b[0m \u001b[32m31.4/31.4 MB\u001b[0m \u001b[31m22.4 MB/s\u001b[0m eta \u001b[36m0:00:00\u001b[0m\n",
            "\u001b[?25hInstalling collected packages: faiss-cpu\n",
            "Successfully installed faiss-cpu-1.12.0\n"
          ]
        }
      ],
      "source": [
        "!pip install faiss-cpu"
      ]
    },
    {
      "cell_type": "code",
      "source": [
        "import numpy as np\n",
        "import time\n",
        "import faiss\n",
        "from sklearn.metrics.pairwise import cosine_similarity"
      ],
      "metadata": {
        "id": "Jn-F8QfQM_FW"
      },
      "execution_count": 2,
      "outputs": []
    },
    {
      "cell_type": "code",
      "source": [
        "# -----------------------------\n",
        "# Parameters\n",
        "# -----------------------------\n",
        "n_of_vectors = 10_000_000\n",
        "vector_dimension = 64\n",
        "nof_top_matches = 5\n",
        "nlist = 100\n",
        "nprobe = 10"
      ],
      "metadata": {
        "id": "bNd40u-JNFva"
      },
      "execution_count": 13,
      "outputs": []
    },
    {
      "cell_type": "code",
      "source": [
        "# -----------------------------\n",
        "# Data\n",
        "# -----------------------------\n",
        "vectors = np.random.random((n_of_vectors, vector_dimension)).astype('float32')\n",
        "query_vector = np.random.random((1, vector_dimension)).astype('float32')\n",
        "\n",
        "print(\"Dataset shape:\", vectors.shape)\n"
      ],
      "metadata": {
        "colab": {
          "base_uri": "https://localhost:8080/"
        },
        "id": "7-_uBMDbNApr",
        "outputId": "73f57c07-8f78-4a00-9ae2-87c11a5393a9"
      },
      "execution_count": 14,
      "outputs": [
        {
          "output_type": "stream",
          "name": "stdout",
          "text": [
            "Dataset shape: (10000000, 64)\n"
          ]
        }
      ]
    },
    {
      "cell_type": "code",
      "source": [
        "# -----------------------------\n",
        "# 1. Brute Force with sklearn\n",
        "# -----------------------------\n",
        "def brute_force_search(vectors, query_vector, nof_top_matches=5):\n",
        "    sims = cosine_similarity(query_vector, vectors).flatten()\n",
        "    top_indices = sims.argsort()[::-1][:nof_top_matches]\n",
        "    return top_indices\n",
        "\n",
        "start = time.time()\n",
        "tp = brute_force_search(vectors, query_vector, nof_top_matches)\n",
        "end = time.time()\n",
        "print(\"\\n[sklearn cosine brute]\")\n",
        "print(\"Time: {:.4f} seconds\".format(end - start))\n",
        "print(\"Top indices:\", tp[:10])"
      ],
      "metadata": {
        "colab": {
          "base_uri": "https://localhost:8080/"
        },
        "id": "cTxAlCEQNJbq",
        "outputId": "c2895d4e-8fc1-4878-9f5b-6f33aaec2268"
      },
      "execution_count": 15,
      "outputs": [
        {
          "output_type": "stream",
          "name": "stdout",
          "text": [
            "\n",
            "[sklearn cosine brute]\n",
            "Time: 3.9434 seconds\n",
            "Top indices: [2570254 6089359 1477026 3911324 9302068]\n"
          ]
        }
      ]
    },
    {
      "cell_type": "code",
      "source": [
        "# -----------------------------\n",
        "# 2. FAISS Flat Index (exact L2)\n",
        "# -----------------------------\n",
        "index_flat = faiss.IndexFlatL2(vector_dimension)  # brute-force L2\n",
        "index_flat.add(vectors)\n",
        "\n",
        "start = time.time()\n",
        "D, I = index_flat.search(query_vector, nof_top_matches)\n",
        "end = time.time()\n",
        "print(\"\\n[FAISS IndexFlatL2 brute]\")\n",
        "print(\"Time: {:.4f} seconds\".format(end - start))\n",
        "print(\"Top indices:\", I[0][:10])"
      ],
      "metadata": {
        "colab": {
          "base_uri": "https://localhost:8080/"
        },
        "id": "whYkMwNnNMCj",
        "outputId": "92e0637b-8017-4305-e203-69fee4bae18b"
      },
      "execution_count": 16,
      "outputs": [
        {
          "output_type": "stream",
          "name": "stdout",
          "text": [
            "\n",
            "[FAISS IndexFlatL2 brute]\n",
            "Time: 0.2737 seconds\n",
            "Top indices: [2326964 2455147 7654379 4982754 3719398]\n"
          ]
        }
      ]
    },
    {
      "cell_type": "code",
      "source": [
        "# -----------------------------\n",
        "# 3. FAISS IVF-Flat (approximate)\n",
        "# -----------------------------\n",
        "quantizer = faiss.IndexFlatL2(vector_dimension)       # coarse quantizer\n",
        "index_ivf = faiss.IndexIVFFlat(quantizer, vector_dimension, nlist, faiss.METRIC_L2)\n",
        "\n",
        "# Train IVF on dataset\n",
        "start = time.time()\n",
        "index_ivf.train(vectors)      # learns cluster centroids\n",
        "end = time.time()\n",
        "print(\"\\n[FAISS IndexIVFFlat] Training time: {:.4f} seconds\".format(end - start))\n",
        "\n",
        "# Add dataset to IVF\n",
        "index_ivf.add(vectors)\n",
        "\n",
        "# Set how many clusters to probe\n",
        "index_ivf.nprobe = nprobe\n",
        "\n",
        "# Search\n",
        "start = time.time()\n",
        "D_ivf, I_ivf = index_ivf.search(query_vector, nof_top_matches)\n",
        "end = time.time()\n",
        "print(\"[FAISS IndexIVFFlat] Query time: {:.4f} seconds\".format(end - start))\n",
        "print(\"Top indices:\", I_ivf[0][:10])\n"
      ],
      "metadata": {
        "colab": {
          "base_uri": "https://localhost:8080/"
        },
        "id": "gbjQHaLMNPrW",
        "outputId": "4d3c5b5b-37c2-4c48-ea8e-42c4534e60e1"
      },
      "execution_count": 17,
      "outputs": [
        {
          "output_type": "stream",
          "name": "stdout",
          "text": [
            "\n",
            "[FAISS IndexIVFFlat] Training time: 1.3930 seconds\n",
            "[FAISS IndexIVFFlat] Query time: 0.0309 seconds\n",
            "Top indices: [2326964 4982754 4895345 7752522 9023717]\n"
          ]
        }
      ]
    },
    {
      "cell_type": "code",
      "source": [
        "# -----------------------------\n",
        "# Summary\n",
        "# -----------------------------\n",
        "print(\"\\n--- Summary ---\")\n",
        "print(\"sklearn brute cosine: slow, exact cosine\")\n",
        "print(\"FAISS FlatL2: fast brute-force, exact L2\")\n",
        "print(\"FAISS IVFFlat: approximate, tunable speed/accuracy with nlist/nprobe\")"
      ],
      "metadata": {
        "colab": {
          "base_uri": "https://localhost:8080/"
        },
        "id": "sxFVkQ27NRVR",
        "outputId": "620f8983-c998-49c0-b427-3fb4f0bca7c4"
      },
      "execution_count": null,
      "outputs": [
        {
          "output_type": "stream",
          "name": "stdout",
          "text": [
            "\n",
            "--- Summary ---\n",
            "sklearn brute cosine: slow, exact cosine\n",
            "FAISS FlatL2: fast brute-force, exact L2\n",
            "FAISS IVFFlat: approximate, tunable speed/accuracy with nlist/nprobe\n"
          ]
        }
      ]
    }
  ]
}