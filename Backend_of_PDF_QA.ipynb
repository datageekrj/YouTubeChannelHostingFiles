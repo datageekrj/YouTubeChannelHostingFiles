{
  "nbformat": 4,
  "nbformat_minor": 0,
  "metadata": {
    "colab": {
      "provenance": []
    },
    "kernelspec": {
      "name": "python3",
      "display_name": "Python 3"
    },
    "language_info": {
      "name": "python"
    }
  },
  "cells": [
    {
      "cell_type": "code",
      "execution_count": 1,
      "metadata": {
        "colab": {
          "base_uri": "https://localhost:8080/"
        },
        "id": "ELWwPonnNYMT",
        "outputId": "dd53f348-aa91-478f-86d3-5f54e03a3569"
      },
      "outputs": [
        {
          "output_type": "stream",
          "name": "stdout",
          "text": [
            "Collecting langchain_community\n",
            "  Downloading langchain_community-0.3.29-py3-none-any.whl.metadata (2.9 kB)\n",
            "Requirement already satisfied: langchain-core<2.0.0,>=0.3.75 in /usr/local/lib/python3.12/dist-packages (from langchain_community) (0.3.75)\n",
            "Requirement already satisfied: langchain<2.0.0,>=0.3.27 in /usr/local/lib/python3.12/dist-packages (from langchain_community) (0.3.27)\n",
            "Requirement already satisfied: SQLAlchemy<3,>=1.4 in /usr/local/lib/python3.12/dist-packages (from langchain_community) (2.0.43)\n",
            "Collecting requests<3,>=2.32.5 (from langchain_community)\n",
            "  Downloading requests-2.32.5-py3-none-any.whl.metadata (4.9 kB)\n",
            "Requirement already satisfied: PyYAML>=5.3 in /usr/local/lib/python3.12/dist-packages (from langchain_community) (6.0.2)\n",
            "Requirement already satisfied: aiohttp<4.0.0,>=3.8.3 in /usr/local/lib/python3.12/dist-packages (from langchain_community) (3.12.15)\n",
            "Requirement already satisfied: tenacity!=8.4.0,<10,>=8.1.0 in /usr/local/lib/python3.12/dist-packages (from langchain_community) (8.5.0)\n",
            "Collecting dataclasses-json<0.7,>=0.6.7 (from langchain_community)\n",
            "  Downloading dataclasses_json-0.6.7-py3-none-any.whl.metadata (25 kB)\n",
            "Requirement already satisfied: pydantic-settings<3.0.0,>=2.10.1 in /usr/local/lib/python3.12/dist-packages (from langchain_community) (2.10.1)\n",
            "Requirement already satisfied: langsmith>=0.1.125 in /usr/local/lib/python3.12/dist-packages (from langchain_community) (0.4.23)\n",
            "Requirement already satisfied: httpx-sse<1.0.0,>=0.4.0 in /usr/local/lib/python3.12/dist-packages (from langchain_community) (0.4.1)\n",
            "Requirement already satisfied: numpy>=1.26.2 in /usr/local/lib/python3.12/dist-packages (from langchain_community) (2.0.2)\n",
            "Requirement already satisfied: aiohappyeyeballs>=2.5.0 in /usr/local/lib/python3.12/dist-packages (from aiohttp<4.0.0,>=3.8.3->langchain_community) (2.6.1)\n",
            "Requirement already satisfied: aiosignal>=1.4.0 in /usr/local/lib/python3.12/dist-packages (from aiohttp<4.0.0,>=3.8.3->langchain_community) (1.4.0)\n",
            "Requirement already satisfied: attrs>=17.3.0 in /usr/local/lib/python3.12/dist-packages (from aiohttp<4.0.0,>=3.8.3->langchain_community) (25.3.0)\n",
            "Requirement already satisfied: frozenlist>=1.1.1 in /usr/local/lib/python3.12/dist-packages (from aiohttp<4.0.0,>=3.8.3->langchain_community) (1.7.0)\n",
            "Requirement already satisfied: multidict<7.0,>=4.5 in /usr/local/lib/python3.12/dist-packages (from aiohttp<4.0.0,>=3.8.3->langchain_community) (6.6.4)\n",
            "Requirement already satisfied: propcache>=0.2.0 in /usr/local/lib/python3.12/dist-packages (from aiohttp<4.0.0,>=3.8.3->langchain_community) (0.3.2)\n",
            "Requirement already satisfied: yarl<2.0,>=1.17.0 in /usr/local/lib/python3.12/dist-packages (from aiohttp<4.0.0,>=3.8.3->langchain_community) (1.20.1)\n",
            "Collecting marshmallow<4.0.0,>=3.18.0 (from dataclasses-json<0.7,>=0.6.7->langchain_community)\n",
            "  Downloading marshmallow-3.26.1-py3-none-any.whl.metadata (7.3 kB)\n",
            "Collecting typing-inspect<1,>=0.4.0 (from dataclasses-json<0.7,>=0.6.7->langchain_community)\n",
            "  Downloading typing_inspect-0.9.0-py3-none-any.whl.metadata (1.5 kB)\n",
            "Requirement already satisfied: langchain-text-splitters<1.0.0,>=0.3.9 in /usr/local/lib/python3.12/dist-packages (from langchain<2.0.0,>=0.3.27->langchain_community) (0.3.11)\n",
            "Requirement already satisfied: pydantic<3.0.0,>=2.7.4 in /usr/local/lib/python3.12/dist-packages (from langchain<2.0.0,>=0.3.27->langchain_community) (2.11.7)\n",
            "Requirement already satisfied: jsonpatch<2.0,>=1.33 in /usr/local/lib/python3.12/dist-packages (from langchain-core<2.0.0,>=0.3.75->langchain_community) (1.33)\n",
            "Requirement already satisfied: typing-extensions>=4.7 in /usr/local/lib/python3.12/dist-packages (from langchain-core<2.0.0,>=0.3.75->langchain_community) (4.15.0)\n",
            "Requirement already satisfied: packaging>=23.2 in /usr/local/lib/python3.12/dist-packages (from langchain-core<2.0.0,>=0.3.75->langchain_community) (25.0)\n",
            "Requirement already satisfied: httpx<1,>=0.23.0 in /usr/local/lib/python3.12/dist-packages (from langsmith>=0.1.125->langchain_community) (0.28.1)\n",
            "Requirement already satisfied: orjson>=3.9.14 in /usr/local/lib/python3.12/dist-packages (from langsmith>=0.1.125->langchain_community) (3.11.3)\n",
            "Requirement already satisfied: requests-toolbelt>=1.0.0 in /usr/local/lib/python3.12/dist-packages (from langsmith>=0.1.125->langchain_community) (1.0.0)\n",
            "Requirement already satisfied: zstandard>=0.23.0 in /usr/local/lib/python3.12/dist-packages (from langsmith>=0.1.125->langchain_community) (0.24.0)\n",
            "Requirement already satisfied: python-dotenv>=0.21.0 in /usr/local/lib/python3.12/dist-packages (from pydantic-settings<3.0.0,>=2.10.1->langchain_community) (1.1.1)\n",
            "Requirement already satisfied: typing-inspection>=0.4.0 in /usr/local/lib/python3.12/dist-packages (from pydantic-settings<3.0.0,>=2.10.1->langchain_community) (0.4.1)\n",
            "Requirement already satisfied: charset_normalizer<4,>=2 in /usr/local/lib/python3.12/dist-packages (from requests<3,>=2.32.5->langchain_community) (3.4.3)\n",
            "Requirement already satisfied: idna<4,>=2.5 in /usr/local/lib/python3.12/dist-packages (from requests<3,>=2.32.5->langchain_community) (3.10)\n",
            "Requirement already satisfied: urllib3<3,>=1.21.1 in /usr/local/lib/python3.12/dist-packages (from requests<3,>=2.32.5->langchain_community) (2.5.0)\n",
            "Requirement already satisfied: certifi>=2017.4.17 in /usr/local/lib/python3.12/dist-packages (from requests<3,>=2.32.5->langchain_community) (2025.8.3)\n",
            "Requirement already satisfied: greenlet>=1 in /usr/local/lib/python3.12/dist-packages (from SQLAlchemy<3,>=1.4->langchain_community) (3.2.4)\n",
            "Requirement already satisfied: anyio in /usr/local/lib/python3.12/dist-packages (from httpx<1,>=0.23.0->langsmith>=0.1.125->langchain_community) (4.10.0)\n",
            "Requirement already satisfied: httpcore==1.* in /usr/local/lib/python3.12/dist-packages (from httpx<1,>=0.23.0->langsmith>=0.1.125->langchain_community) (1.0.9)\n",
            "Requirement already satisfied: h11>=0.16 in /usr/local/lib/python3.12/dist-packages (from httpcore==1.*->httpx<1,>=0.23.0->langsmith>=0.1.125->langchain_community) (0.16.0)\n",
            "Requirement already satisfied: jsonpointer>=1.9 in /usr/local/lib/python3.12/dist-packages (from jsonpatch<2.0,>=1.33->langchain-core<2.0.0,>=0.3.75->langchain_community) (3.0.0)\n",
            "Requirement already satisfied: annotated-types>=0.6.0 in /usr/local/lib/python3.12/dist-packages (from pydantic<3.0.0,>=2.7.4->langchain<2.0.0,>=0.3.27->langchain_community) (0.7.0)\n",
            "Requirement already satisfied: pydantic-core==2.33.2 in /usr/local/lib/python3.12/dist-packages (from pydantic<3.0.0,>=2.7.4->langchain<2.0.0,>=0.3.27->langchain_community) (2.33.2)\n",
            "Collecting mypy-extensions>=0.3.0 (from typing-inspect<1,>=0.4.0->dataclasses-json<0.7,>=0.6.7->langchain_community)\n",
            "  Downloading mypy_extensions-1.1.0-py3-none-any.whl.metadata (1.1 kB)\n",
            "Requirement already satisfied: sniffio>=1.1 in /usr/local/lib/python3.12/dist-packages (from anyio->httpx<1,>=0.23.0->langsmith>=0.1.125->langchain_community) (1.3.1)\n",
            "Downloading langchain_community-0.3.29-py3-none-any.whl (2.5 MB)\n",
            "\u001b[2K   \u001b[90m━━━━━━━━━━━━━━━━━━━━━━━━━━━━━━━━━━━━━━━━\u001b[0m \u001b[32m2.5/2.5 MB\u001b[0m \u001b[31m27.0 MB/s\u001b[0m eta \u001b[36m0:00:00\u001b[0m\n",
            "\u001b[?25hDownloading dataclasses_json-0.6.7-py3-none-any.whl (28 kB)\n",
            "Downloading requests-2.32.5-py3-none-any.whl (64 kB)\n",
            "\u001b[2K   \u001b[90m━━━━━━━━━━━━━━━━━━━━━━━━━━━━━━━━━━━━━━━━\u001b[0m \u001b[32m64.7/64.7 kB\u001b[0m \u001b[31m4.3 MB/s\u001b[0m eta \u001b[36m0:00:00\u001b[0m\n",
            "\u001b[?25hDownloading marshmallow-3.26.1-py3-none-any.whl (50 kB)\n",
            "\u001b[2K   \u001b[90m━━━━━━━━━━━━━━━━━━━━━━━━━━━━━━━━━━━━━━━━\u001b[0m \u001b[32m50.9/50.9 kB\u001b[0m \u001b[31m2.2 MB/s\u001b[0m eta \u001b[36m0:00:00\u001b[0m\n",
            "\u001b[?25hDownloading typing_inspect-0.9.0-py3-none-any.whl (8.8 kB)\n",
            "Downloading mypy_extensions-1.1.0-py3-none-any.whl (5.0 kB)\n",
            "Installing collected packages: requests, mypy-extensions, marshmallow, typing-inspect, dataclasses-json, langchain_community\n",
            "  Attempting uninstall: requests\n",
            "    Found existing installation: requests 2.32.4\n",
            "    Uninstalling requests-2.32.4:\n",
            "      Successfully uninstalled requests-2.32.4\n",
            "\u001b[31mERROR: pip's dependency resolver does not currently take into account all the packages that are installed. This behaviour is the source of the following dependency conflicts.\n",
            "google-colab 1.0.0 requires requests==2.32.4, but you have requests 2.32.5 which is incompatible.\u001b[0m\u001b[31m\n",
            "\u001b[0mSuccessfully installed dataclasses-json-0.6.7 langchain_community-0.3.29 marshmallow-3.26.1 mypy-extensions-1.1.0 requests-2.32.5 typing-inspect-0.9.0\n"
          ]
        }
      ],
      "source": [
        "!pip install langchain_community pypdf openai langchain_openai"
      ]
    },
    {
      "cell_type": "code",
      "source": [
        "from langchain_community.document_loaders import PyPDFLoader\n",
        "import os\n",
        "from google.colab import userdata\n",
        "from langchain_openai import OpenAIEmbeddings\n"
      ],
      "metadata": {
        "id": "neIGjYljNa9X"
      },
      "execution_count": 2,
      "outputs": []
    },
    {
      "cell_type": "code",
      "source": [
        "file_path = \"/content/Think-And-Grow-Rich_2011-06.pdf\"\n",
        "loader = PyPDFLoader(file_path)"
      ],
      "metadata": {
        "id": "TUxFFBVJNl6c"
      },
      "execution_count": 71,
      "outputs": []
    },
    {
      "cell_type": "code",
      "source": [
        "docs = loader.load()"
      ],
      "metadata": {
        "id": "BaGYlbOXOACc"
      },
      "execution_count": 72,
      "outputs": []
    },
    {
      "cell_type": "code",
      "source": [
        "docs[0]"
      ],
      "metadata": {
        "colab": {
          "base_uri": "https://localhost:8080/"
        },
        "id": "_L8mvgmKmCdC",
        "outputId": "fb3dc2fd-22ae-4f49-cf6b-4d1f686ff5ff"
      },
      "execution_count": 73,
      "outputs": [
        {
          "output_type": "execute_result",
          "data": {
            "text/plain": [
              "Document(metadata={'producer': 'OpenOffice.org 3.2', 'creator': 'Writer', 'creationdate': '2011-06-06T18:53:08+01:00', 'title': 'Think and Grow Rich by Napoleon Hill', 'author': 'Brod', 'subject': 'Free Digital Download PDF eBook Edition', 'keywords': 'free, ebook, think and grow rich, make money online, home based business, opportunity', 'source': '/content/Think-And-Grow-Rich_2011-06.pdf', 'total_pages': 253, 'page': 0, 'page_label': '1'}, page_content='\\uf09a  THINK & GROW RICH  \\uf09b \\nFree Digital Download PDF eBook Edition \\nRe-published by: \\n\\uf09a  www.think-and-grow-rich-ebook.com \\uf09b \\ni')"
            ]
          },
          "metadata": {},
          "execution_count": 73
        }
      ]
    },
    {
      "cell_type": "code",
      "source": [
        "docs[0].metadata"
      ],
      "metadata": {
        "colab": {
          "base_uri": "https://localhost:8080/"
        },
        "id": "-f_wrDH0mJWs",
        "outputId": "02e35551-d044-4be0-a24d-95ec981c474c"
      },
      "execution_count": 75,
      "outputs": [
        {
          "output_type": "execute_result",
          "data": {
            "text/plain": [
              "{'producer': 'OpenOffice.org 3.2',\n",
              " 'creator': 'Writer',\n",
              " 'creationdate': '2011-06-06T18:53:08+01:00',\n",
              " 'title': 'Think and Grow Rich by Napoleon Hill',\n",
              " 'author': 'Brod',\n",
              " 'subject': 'Free Digital Download PDF eBook Edition',\n",
              " 'keywords': 'free, ebook, think and grow rich, make money online, home based business, opportunity',\n",
              " 'source': '/content/Think-And-Grow-Rich_2011-06.pdf',\n",
              " 'total_pages': 253,\n",
              " 'page': 0,\n",
              " 'page_label': '1'}"
            ]
          },
          "metadata": {},
          "execution_count": 75
        }
      ]
    },
    {
      "cell_type": "code",
      "source": [
        "docs[0].page_content"
      ],
      "metadata": {
        "colab": {
          "base_uri": "https://localhost:8080/",
          "height": 52
        },
        "id": "seBqg6aEmKot",
        "outputId": "77bc91c6-d402-423a-e3b5-9f75ade7b57a"
      },
      "execution_count": 76,
      "outputs": [
        {
          "output_type": "execute_result",
          "data": {
            "text/plain": [
              "'\\uf09a  THINK & GROW RICH  \\uf09b \\nFree Digital Download PDF eBook Edition \\nRe-published by: \\n\\uf09a  www.think-and-grow-rich-ebook.com \\uf09b \\ni'"
            ],
            "application/vnd.google.colaboratory.intrinsic+json": {
              "type": "string"
            }
          },
          "metadata": {},
          "execution_count": 76
        }
      ]
    },
    {
      "cell_type": "code",
      "source": [
        "len(docs)"
      ],
      "metadata": {
        "colab": {
          "base_uri": "https://localhost:8080/"
        },
        "id": "qxJAyaAUmHCK",
        "outputId": "3846264e-a5ba-4166-c894-be1c6fb03e21"
      },
      "execution_count": 74,
      "outputs": [
        {
          "output_type": "execute_result",
          "data": {
            "text/plain": [
              "253"
            ]
          },
          "metadata": {},
          "execution_count": 74
        }
      ]
    },
    {
      "cell_type": "code",
      "source": [
        "os.environ[\"OPENAI_API_KEY\"] = userdata.get('OPENAI_API_KEY')\n",
        "embeddings = OpenAIEmbeddings(model=\"text-embedding-3-large\")"
      ],
      "metadata": {
        "id": "ZVy0M_vNR4ZI"
      },
      "execution_count": 39,
      "outputs": []
    },
    {
      "cell_type": "code",
      "source": [
        "from langchain_core.vectorstores import InMemoryVectorStore\n",
        "\n",
        "vector_store = InMemoryVectorStore(embeddings)"
      ],
      "metadata": {
        "id": "0EJxzUpSSejT"
      },
      "execution_count": 40,
      "outputs": []
    },
    {
      "cell_type": "code",
      "source": [
        "vector_store.add_documents(docs)"
      ],
      "metadata": {
        "colab": {
          "base_uri": "https://localhost:8080/"
        },
        "id": "EOOZocK3SjiJ",
        "outputId": "987de345-0e43-4522-9c2b-f040447d57ce"
      },
      "execution_count": 41,
      "outputs": [
        {
          "output_type": "execute_result",
          "data": {
            "text/plain": [
              "['3bb2d512-9a4e-4a85-9e51-4cc515aad568',\n",
              " '63ebdf0c-d041-42b0-8094-492ef6279d18',\n",
              " '9a50617e-d347-42d8-9075-9894646e16b2',\n",
              " 'c7e85dbf-def2-402c-95c3-28232f2511a2',\n",
              " '0a37e55c-eb74-49e1-934b-3d1c03f64f42',\n",
              " 'b5cdcd24-8025-4331-b392-8e5c0da59e5a',\n",
              " 'd8a39732-2842-4071-b39c-345cde6f64a4',\n",
              " '8a3058fa-96db-463e-84dc-e10131cd4598',\n",
              " '4eddda54-2224-4c8b-b186-af15792bc78b',\n",
              " '5bcc0218-de00-4dc8-8330-1c5cbfc00c2f',\n",
              " 'adf1bca4-4d17-4b68-b377-5396a95d0940',\n",
              " '38037d54-6196-479a-93a7-e0308eba87e8',\n",
              " '04abffdf-f6f5-47a9-977a-e8f078598bb3',\n",
              " '5077e6e9-4d8d-4bee-971e-39a8a0547ea5',\n",
              " '112dd7b8-d7b4-49af-ba2f-792996f32cb2',\n",
              " 'dfa8289c-1e96-4e23-9519-01788f1c6c57',\n",
              " 'aa186e1f-68ce-4306-aaf1-b7e3bea71731',\n",
              " '0562b22e-6650-42b3-a89d-22cbd57565c6',\n",
              " '770c1a50-1071-4157-b402-d0655786218c',\n",
              " 'aca4ffdf-a00e-49db-87e4-840c93055bf0',\n",
              " '7ea98afe-5e5a-4100-b3f7-41b08466ae77',\n",
              " 'a6d76492-7cf7-48ac-ad7c-5ac0c6a6acc5',\n",
              " 'a8aa5d21-7f88-4fa1-9132-a50cdedb15a8',\n",
              " '65563b94-b8c6-4852-aa40-7338ade81c47',\n",
              " '46b2e954-86c5-4a2a-8b5a-5da4dd9d1532',\n",
              " '118c4eb1-9372-4b23-905f-fa65d2e7100f',\n",
              " '89dc4264-d89f-4423-9c5d-25e79c4d82a3',\n",
              " '3ebdc425-6c24-44c7-946b-b93da03ff7da',\n",
              " '82572571-4a26-42f0-a88c-bdaac25a21e7',\n",
              " '473f4d5d-c79c-4b41-a22e-cc8b98910037',\n",
              " 'a78c0b3b-f3a4-4d61-8b38-89745fa0f2b6',\n",
              " 'c58efdbe-d738-4040-8578-f00eff02a37b',\n",
              " 'f866338d-c154-4089-b01f-c5fa82ca060d',\n",
              " '52399987-443a-4717-8def-6c17729ac7a0',\n",
              " 'f910a858-1a4c-47ff-9154-9022eb1b7c0d',\n",
              " '8c421163-e725-4e9f-b26c-d16fe802d98a',\n",
              " 'bff5f22c-1d7a-4156-9fe1-049c94697c63',\n",
              " '422d72d8-a374-47a6-bccf-2ea4f54217f6',\n",
              " '0a7139c9-6588-4948-9741-00e86d0930af',\n",
              " '1494fc1e-9d73-4023-8632-0f1eb38bac58',\n",
              " '8e98c5a9-94e6-42fc-8d3e-89361d117c23',\n",
              " '0be58899-0415-4f32-ac56-ea7cb40e3fde',\n",
              " 'e00bdbb3-d768-4917-9ee5-7ca4c8f7e342',\n",
              " 'df67c25a-493a-4b4d-aefa-7abf20bcae46',\n",
              " 'bae0dd87-424b-4b19-b87a-5add72625bc5',\n",
              " '0fc28b0e-a082-4f26-aeac-707280bf25db',\n",
              " 'bcf08f77-dce7-4280-a048-f686d3528400',\n",
              " '52ced94f-3e26-4a63-9c34-7ee7a7a82221',\n",
              " 'c8cbaf1f-42fb-4fda-ab37-7f96694646f4',\n",
              " '797b6ea6-507d-478a-9c8b-9b2e9117eab4',\n",
              " 'c6f3fb38-14c7-4da1-89f3-0063be1dbcb7',\n",
              " '846fb263-0bf8-47bb-90aa-99b9084bdba6',\n",
              " '0574ea18-8554-4288-adec-07c56e3fe2a2',\n",
              " '8386792c-29f1-4c4a-9214-e60271a80ef5',\n",
              " 'dc523258-1685-4be3-b20f-fdd26cce4363',\n",
              " '4293b48d-8fe6-4cfa-bdb7-5dc722891725',\n",
              " '9235b430-0491-410d-95f9-f4421e8b7487',\n",
              " 'bea37868-b33b-440a-ad47-a4338b937044',\n",
              " '78d399f1-4187-47e2-b588-74366ac76459',\n",
              " '1a91ca9f-856f-4230-a766-6a188a0db427',\n",
              " '3bdf23f9-6112-4dac-ab65-f000ce04af8d',\n",
              " '85ccf7a6-b7c0-49b3-8bc5-dce11a0b4aab',\n",
              " '16e8e7d7-87ca-4509-87b6-7236a5f27425',\n",
              " 'e2c950d2-087d-4905-ab60-74a76512269f',\n",
              " '0b08ca98-e550-47ba-9ac5-4dc99945bfb1',\n",
              " '5d4441df-27c3-45b7-9c5e-2ecc30a2e5ee',\n",
              " '93aeb7eb-01c5-4b08-ad88-bfcc425cf4ae',\n",
              " '2261fd24-e40d-46b7-8fb8-60c04bb9767e',\n",
              " '3eed9da1-28e0-41d1-9c7e-d3faab134a34',\n",
              " '4e9333c8-81d7-4e49-8b77-7e8ed3fc165d',\n",
              " '776ef732-3c5f-4e2d-9740-6c7fd0e871d5',\n",
              " 'a30cb1b7-2959-448d-bb17-38926495fa65',\n",
              " 'e6e664e3-9e43-46d2-9e10-4ee47ec8cf61',\n",
              " '05e802b6-4c28-425f-beb4-a7d6966db010',\n",
              " '4a07c954-eb5a-421b-adb0-ba74fa6c77a9',\n",
              " '78add472-afe5-4f09-9582-8a3b5ff59525',\n",
              " '9b0d4e5f-cf21-4566-9768-9b53467159a2',\n",
              " 'c4266175-1960-4471-b605-434f10dd7b64',\n",
              " 'a9880e84-5d69-45bc-adae-020ee63a28da',\n",
              " 'ae310d46-1a54-4efb-975c-f1c02ad9d4f8',\n",
              " '994ba9b5-81e0-4a81-9419-3b17611bd4c6',\n",
              " '6b2d0b03-34f9-4b2a-bb61-d574910ea27d',\n",
              " '93d25263-e93a-4561-8277-bd0b5daa79e5',\n",
              " '186d4c1f-5d64-4cd9-9b5b-d09fdefb14ce',\n",
              " '169eceef-fee0-4408-8a45-95ff67c5090d',\n",
              " '89371136-880d-4357-b13b-0444c2e65554',\n",
              " '07dc7acf-607c-47ea-9ddf-c7da5da9d4b6',\n",
              " '8b07cd2a-2747-4f67-89e5-da8f16a5803f',\n",
              " '597a6e96-24d3-4ac1-a282-c4664ec72fbf',\n",
              " 'fbb355fb-2887-4e22-9a1a-3151ca47b979',\n",
              " '526078cb-b381-4caf-9d07-f8bf4e880d7a',\n",
              " '5a3ae619-7541-4e7b-803b-acd969b9a031',\n",
              " '977eeb3d-2ea0-4646-bbd5-e8028dcbed95',\n",
              " 'd25cb792-6c9d-4a39-bd4e-0a8f73e70aec',\n",
              " '5a2d72d6-dc45-4ddc-aa28-0513bc9ac749',\n",
              " 'f2da5271-a71d-4d6f-ad68-2963fdeec6ba',\n",
              " '6c8f6b1f-8d59-43b6-a432-d5394922edc0',\n",
              " '1c27c851-eb1b-48f1-9d2f-1f9f20346c90',\n",
              " '74f82001-06f3-4448-a42c-d8a3806fbd20',\n",
              " '9c5fa04a-825a-4b0e-bb52-64aebcf51ae9',\n",
              " '7ddd7403-1542-4d02-be86-4de19ec6d48c',\n",
              " '0dee7e93-bf18-4fef-a67c-b26b4903cd8d',\n",
              " '80eafb96-a195-450a-b87e-ce3c5bf64591',\n",
              " '1f5bd19b-2612-42a2-9a91-0759fbad376a',\n",
              " 'a79d3504-6efb-4e48-b132-f9561c073565',\n",
              " 'f82a03e9-2fe0-4d6b-8d81-ef7a8a0a71d6',\n",
              " '9fd4624a-47ad-4257-ba53-a0f9048d4bcd',\n",
              " '493d7582-10f3-44de-9094-1351c9ba900f',\n",
              " '393c3dbd-5a09-41f3-8616-33a115827056',\n",
              " 'a66e158c-8a9a-4437-bdc9-267b1fdfcaa7',\n",
              " '026a0c3d-b149-4ab4-bd85-9fd18a45d160',\n",
              " '1f5f95ad-2b50-43da-b7e5-9467b1105f14',\n",
              " 'c6ea0b4a-c223-4c5b-a984-2595813717fe',\n",
              " '4b11b88b-91b2-45e8-91b4-ac1bded58875',\n",
              " '6c5bb302-a836-4b96-88a6-a8b862be9a32',\n",
              " 'c26be915-9196-41c0-8b85-751d564c3dbf',\n",
              " '02ae638b-174c-4d34-a9e4-ff09d1a24b0d',\n",
              " 'f375dea7-6de7-4bd2-a255-dfaf568a8a4d',\n",
              " 'a0e48645-b4b4-4465-b7aa-75b9962a3dd8',\n",
              " '88d0619b-bee5-4e46-94aa-b2880457e264',\n",
              " '3a8ccf06-d7f6-409b-9358-84c9ac8a6850',\n",
              " 'e4cd6206-219b-4b47-9c2e-43aafbc17f22',\n",
              " 'd7c7d4b3-1f5a-43e8-b675-4a2306a5e2e6',\n",
              " '4a1f6521-7b7d-40c0-9eb2-8b9452fed08f',\n",
              " 'de4c2a29-57a3-4ba0-96cd-0560679af66f',\n",
              " '208bcd17-820b-4ffe-bbad-3606b0169553',\n",
              " '2aac5e1c-cf6b-4ff1-a172-5c1086c6740e',\n",
              " '06aa5115-d5f3-4a39-affd-4989d4cf7b98',\n",
              " '244caeda-8778-488d-965d-ecc7f7b37e69',\n",
              " '971f729d-e889-46b3-ab98-2c634797219a',\n",
              " 'bc63bf1c-c484-4939-a5b0-bcc1cad29896',\n",
              " 'f9abc79d-ac43-469d-8e76-18a296d81d9f',\n",
              " 'd757b220-6c5d-4ed0-8bea-5db9b1d1d1f5',\n",
              " 'bd2f10f2-bd79-45c8-96fc-91ba2869b6f2',\n",
              " '380bea3e-7706-4b39-9961-170b3b28bf1f',\n",
              " '3f7c3fcc-b454-498c-9875-3d59fca00ac2',\n",
              " '85c159ff-2a97-4f0d-b8b0-70d44928c7bd',\n",
              " 'af693be3-fe7d-413f-967c-9b1abaacfba3',\n",
              " 'a5453efd-5075-4d94-aa39-565503c89f81',\n",
              " 'f9faa8be-a8a3-4ff3-95d2-6e87092f3981',\n",
              " '9142ee22-8b78-4310-8b9f-eac7a90e31b9',\n",
              " 'b21449cd-5db2-4a4d-ad6a-9374e38e2b91',\n",
              " '078725ed-b25a-4793-901e-8f20eeed8f7b',\n",
              " 'cd4de6d7-e021-4bf4-96a9-710976546b5a',\n",
              " '4a57963c-b73c-40df-9706-e98727bef9a9',\n",
              " 'cda48d33-028f-490a-8545-bca963d1e403',\n",
              " '8725e12d-ded9-4669-968e-2faa803fccf7',\n",
              " '3d38d690-fadc-4b77-b7af-737878dd6678',\n",
              " '636e2edd-e4d1-4433-9fed-7d6a5694bb96',\n",
              " 'dd48761b-f9ae-422d-99d6-39dbbc315adf',\n",
              " '0b20c961-3ff3-4ea9-bf57-a3f033850545',\n",
              " '85aea8a8-2c80-4aa7-9a6b-e988158f4751',\n",
              " '026e665a-5010-4a9b-98c9-076c45ab67ec',\n",
              " '519a4799-94fe-402f-8185-3f737b964a55',\n",
              " 'a1f2e66a-f71b-4b58-9e8b-c9a7510c8f4e',\n",
              " '4d004cfa-57be-4be4-b57f-edf19161654f',\n",
              " 'c2df75fc-1c63-48b0-b371-d33fedbb28d0',\n",
              " 'b17d1ca1-1c0f-41c5-9577-7c3f6c8431ed',\n",
              " '1b9b7382-339b-4e1c-830b-d9d0ca109185',\n",
              " '7bff056e-552f-4e3d-9c34-66282d739333',\n",
              " '0fde9c45-7d75-401e-8df3-f495bc5ff409',\n",
              " '77b7b16e-1945-4b0b-b6f9-0891e2aa3ed8',\n",
              " 'aee6b0bc-5ee0-44e9-af20-bc1e1f0ecd84',\n",
              " 'ed3f2ed0-def5-4460-ac0e-80d65f9d1d72',\n",
              " 'a889cd8f-48bd-4379-b43e-9c0f34b98b3a',\n",
              " 'ab734da6-462f-4314-b750-130de81d110e',\n",
              " 'e07c4627-0554-42bf-ba47-b72d28a8431f',\n",
              " 'dc5294ad-61b4-4ff0-ba24-1864b0e97f60',\n",
              " 'e6be5c02-57c6-4bcb-ac7c-2bc7fb636d1e',\n",
              " '38f8e56a-98d0-4cb0-9212-a0588c6478a8',\n",
              " 'a70d2610-9eca-4768-8fcd-40a648d6f39d',\n",
              " 'd1582ef5-b6da-45b3-bfac-807a81c73489',\n",
              " '443c89f8-b692-4661-ae74-9ea867e4496d',\n",
              " '9f70e345-97d7-4cbb-96a8-b1b1c8fa2179',\n",
              " '9144c852-d836-4c93-a91c-0ff44d696d18',\n",
              " '84537c71-7915-4c7d-968d-d44afd81097b',\n",
              " 'df28c332-a5eb-4671-bd41-b76a389b8dec',\n",
              " '49a74fb3-dec0-4ac7-9510-91b6417300fd',\n",
              " '9d82a31c-c545-4560-9e04-73023e143bb5',\n",
              " '21191d37-24cc-4e66-b2a8-69fd0a2ca8b4',\n",
              " '2b9b9544-2a5b-42ec-b5ff-eb94482a062d',\n",
              " 'e8edc222-36c6-4d5f-b212-46ffee7b54a8',\n",
              " 'ec446a8e-6988-4a5a-abbb-3b5d0945c8e3',\n",
              " 'a8e7622d-1897-46d2-8b0e-7fe480111f2f',\n",
              " '88aabbca-0dca-4000-9aff-93b064b529f6',\n",
              " '6108c854-6fc4-4b5f-9ad5-c99b05bc45ec',\n",
              " '2d4ffcf3-0bd2-443e-a763-6acc04dc05cb',\n",
              " 'e597c763-60d0-4aab-ba22-d4a396780a7e',\n",
              " '72ea0220-0f38-4b18-8e4a-d68ec37c5440',\n",
              " '672f4b88-8f5a-4e82-81a5-a5b6fe1def45',\n",
              " 'f306acde-57d4-4021-8d2d-7f2d84c3b8a5',\n",
              " 'a4625c04-c248-4d67-adfa-8fd6cba31325',\n",
              " 'cd46990f-31d7-4dfc-8ecd-ab844a70a63b',\n",
              " '35a53ffe-0442-4bd7-a602-e6cecd42b01a',\n",
              " '75c4765d-d68b-4633-a56c-00cce504b443',\n",
              " '34d1c136-3e11-433e-aa82-36d6ab23d221',\n",
              " 'f1bf76da-5166-4ddf-9e5f-d1665cdcc650',\n",
              " '77b86660-fbab-4e37-87de-7211b3f999cf',\n",
              " '2468c157-3cca-490d-8a3e-7236a7209e30',\n",
              " '59369a35-ea6f-42c7-bbbc-56f8358d7ccc',\n",
              " 'c2312e64-8443-43d6-9acd-24361b6318ca',\n",
              " '0790e822-5b24-4581-805c-72a9904eed8a',\n",
              " 'ce058238-4d9f-42f0-83fc-9f7745066875',\n",
              " 'a7c1cdf0-d731-44b2-b2a4-43a6b5d673e5',\n",
              " '7a8e3539-c055-493a-be21-279b1f693347',\n",
              " '33d6699f-3cc3-4a7f-aae2-39a359ad12bf',\n",
              " '9e448e28-32da-4b60-8e9f-dc5ded7d9d45',\n",
              " 'b2a7700a-202f-430b-a393-1c77f5a41649',\n",
              " '5d19c3e9-7a1a-45b9-be44-410154e5cee6',\n",
              " 'e7e48ffd-021e-45aa-a648-14995dc47cb0',\n",
              " '9eacafb0-14f0-42ee-aa52-3cf03b070550',\n",
              " '796a5edb-251f-4120-ad7c-450ead25cdee',\n",
              " 'e5fc5589-1e79-4e30-9261-3578144fe336',\n",
              " '5245e720-78da-45e4-a39b-65a115ed94e7',\n",
              " '6d5fb62a-6dde-4e9d-ad40-c1236e8b4872',\n",
              " 'c8698b17-70a3-4c83-82ca-b6ec75409be6',\n",
              " 'aefd8f53-9160-447a-a0bf-9fa89d5954a2',\n",
              " '123e5b5a-cf21-46cc-8a74-3295ded78ff8',\n",
              " '20c85667-96b3-40f9-820a-003319703c25',\n",
              " '637b6fa2-284a-40a0-a7f4-7fcc87adbf89',\n",
              " 'dcf1f4e4-aaf3-4582-bb68-a49a2ffe6b31',\n",
              " 'cce99f13-09c2-4633-b529-2850aad3d263',\n",
              " 'a902731f-ae82-48cd-aa0b-e329813860e6',\n",
              " '25b9ac98-95f7-4550-adc9-d504e5bfc0f1',\n",
              " '6204ac4f-8b45-4a66-abb5-ec060b7029b9',\n",
              " '2cefa832-d764-4116-bd2a-1514acf00440',\n",
              " '92818c86-8f1c-4072-bec8-2d9e3c80dc37',\n",
              " '0b117288-4ac2-4b68-93a9-02d8122820a2',\n",
              " '8964e1b7-590e-4a96-ba15-7677646142ea',\n",
              " '4e55ffa4-3ec4-49a3-a080-72fd83c57f12',\n",
              " '82206f7d-5cf1-4341-98fa-d4120316dc21',\n",
              " 'a19e7edd-bd1a-43e1-a9ae-3affc3d70dc1',\n",
              " '0a0619dd-9b50-46a5-937f-db9d4c7e8768',\n",
              " 'e5c0f94c-2a2b-4a22-a815-24e6c82c83a6',\n",
              " '2b097c02-b212-4fb6-a1da-6d0987426f49',\n",
              " '092f1e3d-b20c-48c8-af6d-2c0e7382a549',\n",
              " 'b1f3b9d3-7bff-4bf1-9c39-b226e6778bb5',\n",
              " '1c982892-6934-4ea7-b126-6f8bb1ce16f5',\n",
              " '2888a0aa-9829-42df-9e4f-a385678ee5d9',\n",
              " '13aedd83-45c3-47b7-bb0e-26860e9cdd08',\n",
              " '29d6eec1-7303-48f0-8fa7-b2f8f17fe2ac',\n",
              " '64d2d572-0b19-4dd7-b493-21f2dad1a775',\n",
              " 'f221128b-cd44-4f6f-bf03-f048a2c5e6f9',\n",
              " 'a4dde88d-1ef5-4ae4-a325-29b8c3f19f80',\n",
              " '9c5bbe4e-4a60-436b-9f3a-57da0e86eb7d',\n",
              " 'c5914f49-581f-4f3b-a4ef-b1bc11253cef',\n",
              " '76a790dc-0f88-4dd9-8b24-c1df965b767f',\n",
              " 'faa63522-7c7a-4731-ab08-4bb5023a4a3e',\n",
              " 'ab7612db-9658-4367-ad90-bcba7229d546',\n",
              " '10176792-6b6f-4862-9c9b-ced4ad1c6ef3',\n",
              " 'fecd223d-07c0-437b-8472-8deddbb10d71',\n",
              " '4006e680-b3a6-4315-9cbf-77a72fdc067b',\n",
              " 'b6af6345-3aca-45c8-8893-549084ca5671']"
            ]
          },
          "metadata": {},
          "execution_count": 41
        }
      ]
    },
    {
      "cell_type": "code",
      "source": [
        "retriever = vector_store.as_retriever(search_kwargs = {\"k\":2})"
      ],
      "metadata": {
        "id": "EMFDf8GJS1Ul"
      },
      "execution_count": 54,
      "outputs": []
    },
    {
      "cell_type": "code",
      "source": [
        "retrieved_docs = retriever.invoke(\"what did the president say about ketanji brown jackson?\")"
      ],
      "metadata": {
        "id": "ix_Uvc3KUDV8"
      },
      "execution_count": 55,
      "outputs": []
    },
    {
      "cell_type": "code",
      "source": [
        "from openai import OpenAI\n",
        "\n",
        "client = OpenAI(api_key = userdata.get('OPENAI_API_KEY'))"
      ],
      "metadata": {
        "colab": {
          "base_uri": "https://localhost:8080/"
        },
        "id": "TIy3IPOuWKMl",
        "outputId": "f084c160-d185-4630-ad0a-80bfa4b59c7c"
      },
      "execution_count": 61,
      "outputs": [
        {
          "output_type": "stream",
          "name": "stdout",
          "text": [
            "I'm called ChatGPT. How can I assist you today?\n"
          ]
        }
      ]
    },
    {
      "cell_type": "code",
      "source": [
        "SYSTEM_PROMPT = \"You are a helpful assitant who answers questions based on a document uploaded. User ask a question and a context docunments is provided and you answer based on that. If the context does not answer user's question, you simply tell user that it does not provide the answer\"\n",
        "messages = [{\"role\" : \"system\", \"content\" : SYSTEM_PROMPT}]\n",
        "\n",
        "def prepare_user_message(query, context_docs):\n",
        "  contexr_text = \"\\n\\n\".join([d.page_content for d in context_docs])\n",
        "  prompt = \"Answer the following user query concisely under 1000 words: {0}.\\n\\n Based on the below context\\n\\n: {1}\".format(query, contexr_text)\n",
        "  return {\"role\":\"user\", \"content\" : prompt}\n",
        "\n",
        "while True:\n",
        "  query = input(\"What do you want to ask? \")\n",
        "  # query = \"How can someone become rich accoring to this book?\"\n",
        "  ret_docs = retriever.invoke(query)\n",
        "  messages.append(prepare_user_message(query, ret_docs))\n",
        "  response = client.responses.create(\n",
        "      model = \"gpt-4o-mini\",\n",
        "      input = messages,\n",
        "      max_output_tokens = 1000\n",
        "  )\n",
        "  print(\"Here is what I think: \", response.output_text)"
      ],
      "metadata": {
        "colab": {
          "base_uri": "https://localhost:8080/",
          "height": 862
        },
        "id": "c-VzUatpY-vu",
        "outputId": "784d3693-36af-4b38-a93c-c4c5cf703f7f"
      },
      "execution_count": 70,
      "outputs": [
        {
          "output_type": "stream",
          "name": "stdout",
          "text": [
            "What do you want to ask? How are you doing?\n",
            "Here is what I think:  The context provided does not directly address the question \"How are you doing?\" It poses various introspective questions related to one's mental state, personal satisfaction, and reactions to life’s challenges. If you have specific concerns about your well-being or feelings, I can help guide a discussion based on the principles outlined in the text.\n",
            "What do you want to ask? Who is the author of this book?\n",
            "Here is what I think:  The author of \"Think and Grow Rich\" is Napoleon Hill. He was inspired to write this book after being introduced to the wealth-building philosophies of Andrew Carnegie, who provided him with the foundational principles that the book discusses. Hill spent over twenty years researching and compiling the experiences of more than 500 wealthy individuals to distill the secrets to financial success.\n",
            "What do you want to ask? what is he talking about for fear?\n",
            "Here is what I think:  In \"Think and Grow Rich,\" the author discusses the fear of death as one of the fundamental fears that can paralyze individuals and hinder their ability to live fully. He argues that this fear, often rooted in religious fanaticism and superstition, has historically caused immense anxiety and irrational behavior among people.\n",
            "\n",
            "The text emphasizes that the fear of death is not as prevalent among educated individuals today, thanks to advancements in science that have illuminated understanding of life and death. The author suggests that accepting death as a natural part of life—and recognizing it as merely a transition rather than an end—can liberate individuals from this fear.\n",
            "\n",
            "He describes common symptoms of the fear of death, such as preoccupation with dying due to a lack of purpose or self-worth, especially as people age. The author encourages readers to focus on living a fulfilling life rather than dwelling on death.\n",
            "\n",
            "Overall, he posits that life cannot be destroyed; it can only transition, reinforcing the idea that there is no need for fear. By adopting this perspective, one can overcome the debilitating effects of the fear of death and pursue a more meaningful existence.\n",
            "What do you want to ask? what other fears are discussed?\n",
            "Here is what I think:  In \"Think and Grow Rich,\" the author discusses six basic fears that people commonly experience:\n",
            "\n",
            "1. **Fear of Poverty**: This is the most prevalent fear, where individuals worry about financial instability and its implications, leading to anxiety and insecurity.\n",
            "\n",
            "2. **Fear of Criticism**: This fear involves the concern of being judged or ridiculed by others, causing people to avoid taking risks or expressing their true selves.\n",
            "\n",
            "3. **Fear of Ill Health**: This fear can stem from both physical and social influences. It is often amplified by societal perceptions of disease and aging, leading to hypochondria and anxiety about health.\n",
            "\n",
            "4. **Fear of Loss of Love of Someone**: This relates to the fear of losing a loved one or not being loved in return, which can create significant emotional distress.\n",
            "\n",
            "5. **Fear of Old Age**: This fear is linked to societal attitudes towards aging, wherein individuals may feel that they are losing their usefulness or vitality as they grow older.\n",
            "\n",
            "6. **Fear of Death**: The fear of death is deeply ingrained and often tied to religious beliefs, which can provoke fear of the unknown and create anxiety around mortality.\n",
            "\n",
            "The book emphasizes that these fears are interconnected and can cycle through periods of heightened concern. The author argues that fears are often unfounded and that understanding and addressing these fears can lead to personal empowerment and growth.\n"
          ]
        },
        {
          "output_type": "error",
          "ename": "KeyboardInterrupt",
          "evalue": "Interrupted by user",
          "traceback": [
            "\u001b[0;31m---------------------------------------------------------------------------\u001b[0m",
            "\u001b[0;31mKeyboardInterrupt\u001b[0m                         Traceback (most recent call last)",
            "\u001b[0;32m/tmp/ipython-input-3288653723.py\u001b[0m in \u001b[0;36m<cell line: 0>\u001b[0;34m()\u001b[0m\n\u001b[1;32m      8\u001b[0m \u001b[0;34m\u001b[0m\u001b[0m\n\u001b[1;32m      9\u001b[0m \u001b[0;32mwhile\u001b[0m \u001b[0;32mTrue\u001b[0m\u001b[0;34m:\u001b[0m\u001b[0;34m\u001b[0m\u001b[0;34m\u001b[0m\u001b[0m\n\u001b[0;32m---> 10\u001b[0;31m   \u001b[0mquery\u001b[0m \u001b[0;34m=\u001b[0m \u001b[0minput\u001b[0m\u001b[0;34m(\u001b[0m\u001b[0;34m\"What do you want to ask? \"\u001b[0m\u001b[0;34m)\u001b[0m\u001b[0;34m\u001b[0m\u001b[0;34m\u001b[0m\u001b[0m\n\u001b[0m\u001b[1;32m     11\u001b[0m   \u001b[0;31m# query = \"How can someone become rich accoring to this book?\"\u001b[0m\u001b[0;34m\u001b[0m\u001b[0;34m\u001b[0m\u001b[0m\n\u001b[1;32m     12\u001b[0m   \u001b[0mret_docs\u001b[0m \u001b[0;34m=\u001b[0m \u001b[0mretriever\u001b[0m\u001b[0;34m.\u001b[0m\u001b[0minvoke\u001b[0m\u001b[0;34m(\u001b[0m\u001b[0mquery\u001b[0m\u001b[0;34m)\u001b[0m\u001b[0;34m\u001b[0m\u001b[0;34m\u001b[0m\u001b[0m\n",
            "\u001b[0;32m/usr/local/lib/python3.12/dist-packages/ipykernel/kernelbase.py\u001b[0m in \u001b[0;36mraw_input\u001b[0;34m(self, prompt)\u001b[0m\n\u001b[1;32m   1175\u001b[0m                 \u001b[0;34m\"raw_input was called, but this frontend does not support input requests.\"\u001b[0m\u001b[0;34m\u001b[0m\u001b[0;34m\u001b[0m\u001b[0m\n\u001b[1;32m   1176\u001b[0m             )\n\u001b[0;32m-> 1177\u001b[0;31m         return self._input_request(\n\u001b[0m\u001b[1;32m   1178\u001b[0m             \u001b[0mstr\u001b[0m\u001b[0;34m(\u001b[0m\u001b[0mprompt\u001b[0m\u001b[0;34m)\u001b[0m\u001b[0;34m,\u001b[0m\u001b[0;34m\u001b[0m\u001b[0;34m\u001b[0m\u001b[0m\n\u001b[1;32m   1179\u001b[0m             \u001b[0mself\u001b[0m\u001b[0;34m.\u001b[0m\u001b[0m_parent_ident\u001b[0m\u001b[0;34m[\u001b[0m\u001b[0;34m\"shell\"\u001b[0m\u001b[0;34m]\u001b[0m\u001b[0;34m,\u001b[0m\u001b[0;34m\u001b[0m\u001b[0;34m\u001b[0m\u001b[0m\n",
            "\u001b[0;32m/usr/local/lib/python3.12/dist-packages/ipykernel/kernelbase.py\u001b[0m in \u001b[0;36m_input_request\u001b[0;34m(self, prompt, ident, parent, password)\u001b[0m\n\u001b[1;32m   1217\u001b[0m             \u001b[0;32mexcept\u001b[0m \u001b[0mKeyboardInterrupt\u001b[0m\u001b[0;34m:\u001b[0m\u001b[0;34m\u001b[0m\u001b[0;34m\u001b[0m\u001b[0m\n\u001b[1;32m   1218\u001b[0m                 \u001b[0;31m# re-raise KeyboardInterrupt, to truncate traceback\u001b[0m\u001b[0;34m\u001b[0m\u001b[0;34m\u001b[0m\u001b[0m\n\u001b[0;32m-> 1219\u001b[0;31m                 \u001b[0;32mraise\u001b[0m \u001b[0mKeyboardInterrupt\u001b[0m\u001b[0;34m(\u001b[0m\u001b[0;34m\"Interrupted by user\"\u001b[0m\u001b[0;34m)\u001b[0m \u001b[0;32mfrom\u001b[0m \u001b[0;32mNone\u001b[0m\u001b[0;34m\u001b[0m\u001b[0;34m\u001b[0m\u001b[0m\n\u001b[0m\u001b[1;32m   1220\u001b[0m             \u001b[0;32mexcept\u001b[0m \u001b[0mException\u001b[0m\u001b[0;34m:\u001b[0m\u001b[0;34m\u001b[0m\u001b[0;34m\u001b[0m\u001b[0m\n\u001b[1;32m   1221\u001b[0m                 \u001b[0mself\u001b[0m\u001b[0;34m.\u001b[0m\u001b[0mlog\u001b[0m\u001b[0;34m.\u001b[0m\u001b[0mwarning\u001b[0m\u001b[0;34m(\u001b[0m\u001b[0;34m\"Invalid Message:\"\u001b[0m\u001b[0;34m,\u001b[0m \u001b[0mexc_info\u001b[0m\u001b[0;34m=\u001b[0m\u001b[0;32mTrue\u001b[0m\u001b[0;34m)\u001b[0m\u001b[0;34m\u001b[0m\u001b[0;34m\u001b[0m\u001b[0m\n",
            "\u001b[0;31mKeyboardInterrupt\u001b[0m: Interrupted by user"
          ]
        }
      ]
    },
    {
      "cell_type": "code",
      "source": [],
      "metadata": {
        "id": "vd6Bvw6WlNhH"
      },
      "execution_count": null,
      "outputs": []
    }
  ]
}